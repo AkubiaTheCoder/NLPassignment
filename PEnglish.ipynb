{
  "nbformat": 4,
  "nbformat_minor": 0,
  "metadata": {
    "colab": {
      "provenance": []
    },
    "kernelspec": {
      "name": "python3",
      "display_name": "Python 3"
    },
    "language_info": {
      "name": "python"
    }
  },
  "cells": [
    {
      "cell_type": "code",
      "source": [
        "!pip install tensorflow --upgrade\n",
        "!pip install keras --upgrade\n",
        "!pip install --upgrade tensorflow-metadata\n",
        "\n"
      ],
      "metadata": {
        "id": "A1_Vrlzg52-6"
      },
      "execution_count": null,
      "outputs": []
    },
    {
      "cell_type": "code",
      "execution_count": 2,
      "metadata": {
        "id": "eCFjZyt05Q_H",
        "colab": {
          "base_uri": "https://localhost:8080/"
        },
        "outputId": "0630d4c8-c1b4-456b-a310-4f3f4627c7f2"
      },
      "outputs": [
        {
          "output_type": "stream",
          "name": "stdout",
          "text": [
            "Epoch 1/5\n",
            "64/64 [==============================] - 2s 16ms/step - loss: 0.7781 - accuracy: 0.5962 - val_loss: 0.7095 - val_accuracy: 0.6390\n",
            "Epoch 2/5\n",
            "64/64 [==============================] - 1s 13ms/step - loss: 0.7117 - accuracy: 0.6321 - val_loss: 0.7039 - val_accuracy: 0.6390\n",
            "Epoch 3/5\n",
            "64/64 [==============================] - 1s 12ms/step - loss: 0.6484 - accuracy: 0.6724 - val_loss: 0.6636 - val_accuracy: 0.6683\n",
            "Epoch 4/5\n",
            "64/64 [==============================] - 1s 23ms/step - loss: 0.4588 - accuracy: 0.8257 - val_loss: 0.6605 - val_accuracy: 0.6966\n",
            "Epoch 5/5\n",
            "64/64 [==============================] - 1s 22ms/step - loss: 0.2629 - accuracy: 0.9211 - val_loss: 0.7492 - val_accuracy: 0.6722\n",
            "130/130 [==============================] - 0s 2ms/step\n"
          ]
        }
      ],
      "source": [
        "#importations\n",
        "\n",
        "import pandas as pd\n",
        "import numpy as np\n",
        "from sklearn.model_selection import train_test_split\n",
        "from tensorflow.keras.preprocessing.text import Tokenizer\n",
        "from tensorflow.keras.preprocessing.sequence import pad_sequences\n",
        "from tensorflow.keras.models import Sequential\n",
        "from tensorflow.keras.layers import Embedding, Conv1D, MaxPooling1D, Flatten, Dense, Dropout\n",
        "\n",
        "# Load the training dataset\n",
        "url = 'https://raw.githubusercontent.com/afrisenti-semeval/afrisent-semeval-2023/main/data/pcm/train.tsv'\n",
        "df = pd.read_csv(url, sep='\\t')\n",
        "\n",
        "# Extract the reviews and labels from the training dataset\n",
        "reviews = df['tweet'].values\n",
        "labels = df['label'].values\n",
        "\n",
        "# Split the training dataset into training and validation sets\n",
        "train_reviews, val_reviews, train_labels, val_labels = train_test_split(reviews, labels, test_size=0.2, random_state=42)\n",
        "\n",
        "# Tokenize the training reviews\n",
        "tokenizer = Tokenizer(num_words=5000)\n",
        "tokenizer.fit_on_texts(train_reviews)\n",
        "word_index = tokenizer.word_index\n",
        "sequences = tokenizer.texts_to_sequences(train_reviews)\n",
        "max_len = max(len(x) for x in sequences)\n",
        "train_data = pad_sequences(sequences, maxlen=max_len)\n",
        "\n",
        "# Tokenize the validation reviews\n",
        "val_sequences = tokenizer.texts_to_sequences(val_reviews)\n",
        "val_data = pad_sequences(val_sequences, maxlen=max_len)\n",
        "\n",
        "# One-hot encode the labels for training and validation sets\n",
        "train_labels = np.array(pd.get_dummies(train_labels))\n",
        "val_labels = np.array(pd.get_dummies(val_labels))\n",
        "\n",
        "\n",
        "# Build the model\n",
        "model = Sequential()\n",
        "model.add(Embedding(5000, 32, input_length=max_len))\n",
        "model.add(Conv1D(filters=32, kernel_size=3, padding='same', activation='relu'))\n",
        "model.add(MaxPooling1D(pool_size=2))\n",
        "model.add(Flatten())\n",
        "model.add(Dense(128, activation='relu'))\n",
        "model.add(Dropout(0.5))\n",
        "model.add(Dense(3, activation='softmax'))\n",
        "\n",
        "# Compile the model\n",
        "model.compile(loss='categorical_crossentropy', optimizer='adam', metrics=['accuracy'])\n",
        "\n",
        "# Train the model\n",
        "model.fit(train_data, train_labels, validation_data=(val_data, val_labels), epochs=5, batch_size=64)\n",
        "\n",
        "# Load the test dataset\n",
        "test_url = 'https://raw.githubusercontent.com/afrisenti-semeval/afrisent-semeval-2023/main/data/pcm/test.tsv'\n",
        "test_df = pd.read_csv(test_url, sep='\\t')\n",
        "\n",
        "# Tokenize the test reviews\n",
        "test_sequences = tokenizer.texts_to_sequences(test_df['tweet'].values)\n",
        "test_data = pad_sequences(test_sequences, maxlen=max_len)\n",
        "\n",
        "# Predict the labels for the test reviews\n",
        "predictions = model.predict(test_data)\n",
        "\n",
        "# Map the predicted labels back to the original label names\n",
        "predicted_labels = np.argmax(predictions, axis=1)\n",
        "predicted_labels = np.vectorize({0: 'negative', 1: 'neutral', 2: 'positive'}.get)(predicted_labels)\n"
      ]
    }
  ]
}