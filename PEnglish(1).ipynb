{
  "nbformat": 4,
  "nbformat_minor": 0,
  "metadata": {
    "colab": {
      "provenance": []
    },
    "kernelspec": {
      "name": "python3",
      "display_name": "Python 3"
    },
    "language_info": {
      "name": "python"
    }
  },
  "cells": [
    {
      "cell_type": "code",
      "source": [
        "!pip install tensorflow --upgrade\n",
        "!pip install keras --upgrade\n",
        "!pip install --upgrade tensorflow-metadata\n",
        "\n"
      ],
      "metadata": {
        "id": "A1_Vrlzg52-6"
      },
      "execution_count": null,
      "outputs": []
    },
    {
      "cell_type": "code",
      "execution_count": null,
      "metadata": {
        "id": "eCFjZyt05Q_H",
        "colab": {
          "base_uri": "https://localhost:8080/"
        },
        "outputId": "59e90257-141e-4ac7-812f-e9996a5e4903"
      },
      "outputs": [
        {
          "output_type": "stream",
          "name": "stdout",
          "text": [
            "Epoch 1/5\n",
            "64/64 [==============================] - 4s 22ms/step - loss: 0.7653 - accuracy: 0.6152 - precision: 0.6188 - recall: 0.5557 - cat_accuracy: 0.6152 - tp: 2276.0000 - fp: 1402.0000 - tn: 6790.0000 - fn: 1820.0000 - val_loss: 0.7129 - val_accuracy: 0.6390 - val_precision: 0.6390 - val_recall: 0.6390 - val_cat_accuracy: 0.6390 - val_tp: 655.0000 - val_fp: 370.0000 - val_tn: 1680.0000 - val_fn: 370.0000\n",
            "Epoch 2/5\n",
            "64/64 [==============================] - 1s 13ms/step - loss: 0.7158 - accuracy: 0.6265 - precision: 0.6274 - recall: 0.6169 - cat_accuracy: 0.6265 - tp: 2527.0000 - fp: 1501.0000 - tn: 6691.0000 - fn: 1569.0000 - val_loss: 0.6979 - val_accuracy: 0.6390 - val_precision: 0.6390 - val_recall: 0.6390 - val_cat_accuracy: 0.6390 - val_tp: 655.0000 - val_fp: 370.0000 - val_tn: 1680.0000 - val_fn: 370.0000\n",
            "Epoch 3/5\n",
            "64/64 [==============================] - 1s 13ms/step - loss: 0.6200 - accuracy: 0.6919 - precision: 0.7000 - recall: 0.6819 - cat_accuracy: 0.6919 - tp: 2793.0000 - fp: 1197.0000 - tn: 6995.0000 - fn: 1303.0000 - val_loss: 0.6513 - val_accuracy: 0.6907 - val_precision: 0.7009 - val_recall: 0.6790 - val_cat_accuracy: 0.6907 - val_tp: 696.0000 - val_fp: 297.0000 - val_tn: 1753.0000 - val_fn: 329.0000\n",
            "Epoch 4/5\n",
            "64/64 [==============================] - 1s 13ms/step - loss: 0.4113 - accuracy: 0.8545 - precision: 0.8636 - recall: 0.8474 - cat_accuracy: 0.8545 - tp: 3471.0000 - fp: 548.0000 - tn: 7644.0000 - fn: 625.0000 - val_loss: 0.6757 - val_accuracy: 0.6937 - val_precision: 0.6998 - val_recall: 0.6868 - val_cat_accuracy: 0.6937 - val_tp: 704.0000 - val_fp: 302.0000 - val_tn: 1748.0000 - val_fn: 321.0000\n",
            "Epoch 5/5\n",
            "64/64 [==============================] - 1s 15ms/step - loss: 0.2259 - accuracy: 0.9370 - precision: 0.9404 - recall: 0.9316 - cat_accuracy: 0.9370 - tp: 3816.0000 - fp: 242.0000 - tn: 7950.0000 - fn: 280.0000 - val_loss: 0.7931 - val_accuracy: 0.6937 - val_precision: 0.6936 - val_recall: 0.6780 - val_cat_accuracy: 0.6937 - val_tp: 695.0000 - val_fp: 307.0000 - val_tn: 1743.0000 - val_fn: 330.0000\n",
            "130/130 [==============================] - 0s 3ms/step\n"
          ]
        }
      ],
      "source": [
        "#importations\n",
        "\n",
        "import pandas as pd\n",
        "import numpy as np\n",
        "from sklearn.model_selection import train_test_split\n",
        "from tensorflow.keras.preprocessing.text import Tokenizer\n",
        "from tensorflow.keras.preprocessing.sequence import pad_sequences\n",
        "from tensorflow.keras.models import Sequential\n",
        "from tensorflow.keras.layers import Embedding, Conv1D, MaxPooling1D, Flatten, Dense, Dropout\n",
        "from sklearn.metrics import confusion_matrix, classification_report\n",
        "from sklearn.metrics import precision_score, recall_score\n",
        "import tensorflow as tf\n",
        "\n",
        "\n",
        "# Loading the training dataset\n",
        "url = 'https://raw.githubusercontent.com/afrisenti-semeval/afrisent-semeval-2023/main/data/pcm/train.tsv'\n",
        "df = pd.read_csv(url, sep='\\t')\n",
        "\n",
        "# Extracting the reviews and labels from the training dataset\n",
        "reviews = df['tweet'].values\n",
        "labels = df['label'].values\n",
        "\n",
        "# Spliting the training dataset into training and validation sets\n",
        "train_reviews, val_reviews, train_labels, val_labels = train_test_split(reviews, labels, test_size=0.2, random_state=42)\n",
        "\n",
        "# Tokenizing the training reviews\n",
        "tokenizer = Tokenizer(num_words=5000)\n",
        "tokenizer.fit_on_texts(train_reviews)\n",
        "word_index = tokenizer.word_index\n",
        "sequences = tokenizer.texts_to_sequences(train_reviews)\n",
        "max_len = max(len(x) for x in sequences)\n",
        "train_data = pad_sequences(sequences, maxlen=max_len)\n",
        "\n",
        "# Tokenizing the validation reviews\n",
        "val_sequences = tokenizer.texts_to_sequences(val_reviews)\n",
        "val_data = pad_sequences(val_sequences, maxlen=max_len)\n",
        "# One-hot encode the labels for training and validation sets\n",
        "train_labels = np.array(pd.get_dummies(train_labels, dummy_na=False, drop_first=False))\n",
        "val_labels = np.array(pd.get_dummies(val_labels, dummy_na=False, drop_first=False))\n",
        "\n",
        "# Building the model\n",
        "model = Sequential()\n",
        "model.add(Embedding(5000, 32, input_length=max_len))\n",
        "model.add(Conv1D(filters=32, kernel_size=3, padding='same', activation='relu'))\n",
        "model.add(MaxPooling1D(pool_size=2))\n",
        "model.add(Flatten())\n",
        "model.add(Dense(128, activation='relu'))\n",
        "model.add(Dropout(0.5))\n",
        "model.add(Dense(3, activation='softmax'))\n",
        "\n",
        "# Compiling the model with the new metrics\n",
        "model.compile(loss='categorical_crossentropy', optimizer='adam', metrics=['accuracy', \n",
        "             tf.keras.metrics.Precision(name='precision'), \n",
        "             tf.keras.metrics.Recall(name='recall'), \n",
        "             tf.keras.metrics.CategoricalAccuracy(name='cat_accuracy'),\n",
        "             tf.keras.metrics.TruePositives(name='tp'), \n",
        "             tf.keras.metrics.FalsePositives(name='fp'), \n",
        "             tf.keras.metrics.TrueNegatives(name='tn'), \n",
        "             tf.keras.metrics.FalseNegatives(name='fn')])\n",
        "\n",
        "# Train the model\n",
        "model.fit(train_data, train_labels, validation_data=(val_data, val_labels), epochs=5, batch_size=64)\n",
        "\n",
        "# Load the test dataset\n",
        "test_url = 'https://raw.githubusercontent.com/afrisenti-semeval/afrisent-semeval-2023/main/data/pcm/test.tsv'\n",
        "test_df = pd.read_csv(test_url, sep='\\t')\n",
        "\n",
        "# Tokenizing the test reviews\n",
        "test_sequences = tokenizer.texts_to_sequences(test_df['tweet'].values)\n",
        "test_data = pad_sequences(test_sequences, maxlen=max_len)\n",
        "\n",
        "# Predicting the labels for the test reviews\n",
        "predictions = model.predict(test_data)\n",
        "\n",
        "# Mapping the predicted labels back to the original label names\n",
        "predicted_labels = np.argmax(predictions, axis=1)\n",
        "predicted_labels = np.vectorize({0: 'negative', 1: 'neutral', 2: 'positive'}.get)(predicted_labels)\n",
        "\n"
      ]
    },
    {
      "cell_type": "code",
      "source": [
        "\n",
        "# Predict the labels for the test reviews\n",
        "predictions = model.predict(test_data)\n",
        "\n",
        "# Map the predicted labels back to the original label names\n",
        "predicted_labels = np.argmax(predictions, axis=1)\n",
        "predicted_labels = np.vectorize({0: 'negative', 1: 'neutral', 2: 'positive'}.get)(predicted_labels)\n",
        "\n",
        "# Calculate the confusion matrix\n",
        "cm = confusion_matrix(test_df['label'].values, predicted_labels, labels=['negative', 'neutral', 'positive'])\n",
        "\n",
        "# Calculate the precision, recall, and F1 scores\n",
        "report = classification_report(test_df['label'].values, predicted_labels, labels=['negative', 'neutral', 'positive'])\n"
      ],
      "metadata": {
        "colab": {
          "base_uri": "https://localhost:8080/"
        },
        "id": "Sz9BDv4_Bd5l",
        "outputId": "6e42d437-8f06-4bb1-b411-92c6323a4fda"
      },
      "execution_count": null,
      "outputs": [
        {
          "output_type": "stream",
          "name": "stdout",
          "text": [
            "130/130 [==============================] - 0s 3ms/step\n"
          ]
        },
        {
          "output_type": "stream",
          "name": "stderr",
          "text": [
            "/usr/local/lib/python3.9/dist-packages/sklearn/metrics/_classification.py:1344: UndefinedMetricWarning: Precision and F-score are ill-defined and being set to 0.0 in labels with no predicted samples. Use `zero_division` parameter to control this behavior.\n",
            "  _warn_prf(average, modifier, msg_start, len(result))\n",
            "/usr/local/lib/python3.9/dist-packages/sklearn/metrics/_classification.py:1344: UndefinedMetricWarning: Precision and F-score are ill-defined and being set to 0.0 in labels with no predicted samples. Use `zero_division` parameter to control this behavior.\n",
            "  _warn_prf(average, modifier, msg_start, len(result))\n",
            "/usr/local/lib/python3.9/dist-packages/sklearn/metrics/_classification.py:1344: UndefinedMetricWarning: Precision and F-score are ill-defined and being set to 0.0 in labels with no predicted samples. Use `zero_division` parameter to control this behavior.\n",
            "  _warn_prf(average, modifier, msg_start, len(result))\n"
          ]
        }
      ]
    }
  ]
}