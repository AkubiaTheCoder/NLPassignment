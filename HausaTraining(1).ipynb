{
  "nbformat": 4,
  "nbformat_minor": 0,
  "metadata": {
    "colab": {
      "provenance": []
    },
    "kernelspec": {
      "name": "python3",
      "display_name": "Python 3"
    },
    "language_info": {
      "name": "python"
    }
  },
  "cells": [
    {
      "cell_type": "code",
      "execution_count": null,
      "metadata": {
        "id": "TVlJpXLJqGiR"
      },
      "outputs": [],
      "source": [
        "!pip install tensorflow --upgrade\n",
        "!pip install keras --upgrade\n",
        "!pip install --upgrade tensorflow-metadata\n"
      ]
    },
    {
      "cell_type": "code",
      "source": [],
      "metadata": {
        "id": "5bU4IgSpw_AZ"
      },
      "execution_count": null,
      "outputs": []
    },
    {
      "cell_type": "code",
      "source": [
        "import pandas as pd\n",
        "import numpy as np\n",
        "from sklearn.model_selection import train_test_split\n",
        "from tensorflow.keras.preprocessing.text import Tokenizer\n",
        "from tensorflow.keras.preprocessing.sequence import pad_sequences\n",
        "from tensorflow.keras.models import Sequential\n",
        "from tensorflow.keras.layers import Embedding, Conv1D, MaxPooling1D, Flatten, Dense, Dropout\n",
        "from tensorflow.keras.metrics import Precision, Recall, AUC\n",
        "\n",
        "# Loading the training dataset\n",
        "url = 'https://raw.githubusercontent.com/afrisenti-semeval/afrisent-semeval-2023/main/data/hau/train.tsv'\n",
        "df = pd.read_csv(url, sep='\\t')\n",
        "\n",
        "# Extract the reviews and labels from the training dataset\n",
        "reviews = df['tweet'].values\n",
        "labels = df['label'].values\n",
        "\n",
        "# Spliting the training dataset into training and validation sets\n",
        "train_reviews, val_reviews, train_labels, val_labels = train_test_split(reviews, labels, test_size=0.2, random_state=42)\n",
        "\n",
        "# Tokenizing the training reviews\n",
        "tokenizer = Tokenizer(num_words=5000)\n",
        "tokenizer.fit_on_texts(train_reviews)\n",
        "word_index = tokenizer.word_index\n",
        "sequences = tokenizer.texts_to_sequences(train_reviews)\n",
        "max_len = max(len(x) for x in sequences)\n",
        "train_data = pad_sequences(sequences, maxlen=max_len)\n",
        "\n",
        "# Tokenizing the validation reviews\n",
        "val_sequences = tokenizer.texts_to_sequences(val_reviews)\n",
        "val_data = pad_sequences(val_sequences, maxlen=max_len)\n",
        "\n",
        "# One-hot encoding the labels for training and validation sets\n",
        "train_labels = np.array(pd.get_dummies(train_labels))\n",
        "val_labels = np.array(pd.get_dummies(val_labels))\n",
        "\n",
        "\n",
        "# Building the model\n",
        "model = Sequential()\n",
        "model.add(Embedding(5000, 32, input_length=max_len))\n",
        "model.add(Conv1D(filters=32, kernel_size=3, padding='same', activation='relu'))\n",
        "model.add(MaxPooling1D(pool_size=2))\n",
        "model.add(Flatten())\n",
        "model.add(Dense(128, activation='relu'))\n",
        "model.add(Dropout(0.5))\n",
        "model.add(Dense(3, activation='softmax'))\n",
        "\n",
        "# Adding precision, recall, and F1 score metrics to the model\n",
        "precision = Precision(name='precision')\n",
        "recall = Recall(name='recall')\n",
        "auc = AUC(name='auc')\n",
        "\n",
        "# Creating a function to compute the F1 score\n",
        "def f1_score(y_true, y_pred):\n",
        "    p = precision(y_true, y_pred)\n",
        "    r = recall(y_true, y_pred)\n",
        "    return 2*((p*r)/(p+r+1e-7))\n",
        "\n",
        "# Compiling the model with the new metrics\n",
        "model.compile(loss='categorical_crossentropy', optimizer='adam', metrics=['accuracy', precision, recall, f1_score, auc])\n",
        "\n",
        "# Training the model\n",
        "model.fit(train_data, train_labels, validation_data=(val_data, val_labels), epochs=5, batch_size=32)\n"
      ],
      "metadata": {
        "id": "o2HmJkDNqNpC",
        "colab": {
          "base_uri": "https://localhost:8080/"
        },
        "outputId": "cc6b7027-42eb-4fa5-cf53-8faa5157e9f1"
      },
      "execution_count": null,
      "outputs": [
        {
          "output_type": "stream",
          "name": "stdout",
          "text": [
            "Epoch 1/5\n",
            "355/355 [==============================] - 6s 14ms/step - loss: 0.8820 - accuracy: 0.5676 - precision: 0.6851 - recall: 0.3407 - f1_score: 0.2492 - auc: 0.7670 - val_loss: 0.7665 - val_accuracy: 0.6434 - val_precision: 0.7350 - val_recall: 0.4744 - val_f1_score: 0.5757 - val_auc: 0.8339\n",
            "Epoch 2/5\n",
            "355/355 [==============================] - 4s 10ms/step - loss: 0.6157 - accuracy: 0.7424 - precision: 0.7752 - recall: 0.6855 - f1_score: 0.7061 - auc: 0.8971 - val_loss: 0.6645 - val_accuracy: 0.7101 - val_precision: 0.7330 - val_recall: 0.6603 - val_f1_score: 0.6880 - val_auc: 0.8802\n",
            "Epoch 3/5\n",
            "355/355 [==============================] - 3s 10ms/step - loss: 0.4289 - accuracy: 0.8373 - precision: 0.8545 - recall: 0.8171 - f1_score: 0.8459 - auc: 0.9504 - val_loss: 0.7207 - val_accuracy: 0.6966 - val_precision: 0.7136 - val_recall: 0.6670 - val_f1_score: 0.6904 - val_auc: 0.8714\n",
            "Epoch 4/5\n",
            "355/355 [==============================] - 4s 13ms/step - loss: 0.2975 - accuracy: 0.8964 - precision: 0.9075 - recall: 0.8832 - f1_score: 0.8994 - auc: 0.9754 - val_loss: 0.8429 - val_accuracy: 0.6988 - val_precision: 0.7073 - val_recall: 0.6836 - val_f1_score: 0.6923 - val_auc: 0.8648\n",
            "Epoch 5/5\n",
            "355/355 [==============================] - 4s 10ms/step - loss: 0.1879 - accuracy: 0.9391 - precision: 0.9458 - recall: 0.9335 - f1_score: 0.9417 - auc: 0.9897 - val_loss: 1.0228 - val_accuracy: 0.6794 - val_precision: 0.6909 - val_recall: 0.6702 - val_f1_score: 0.6708 - val_auc: 0.8517\n"
          ]
        },
        {
          "output_type": "execute_result",
          "data": {
            "text/plain": [
              "<keras.callbacks.History at 0x7f8f09716550>"
            ]
          },
          "metadata": {},
          "execution_count": 4
        }
      ]
    }
  ]
}