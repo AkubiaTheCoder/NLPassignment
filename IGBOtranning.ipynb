{
  "nbformat": 4,
  "nbformat_minor": 0,
  "metadata": {
    "colab": {
      "provenance": []
    },
    "kernelspec": {
      "name": "python3",
      "display_name": "Python 3"
    },
    "language_info": {
      "name": "python"
    }
  },
  "cells": [
    {
      "cell_type": "code",
      "execution_count": 1,
      "metadata": {
        "colab": {
          "base_uri": "https://localhost:8080/"
        },
        "id": "XCewXviMeE5i",
        "outputId": "f7e3a221-e347-48d1-ce77-d2b30ae741cd"
      },
      "outputs": [
        {
          "output_type": "stream",
          "name": "stderr",
          "text": [
            "<ipython-input-1-c3dd55cc8dbc>:26: FutureWarning: The default value of regex will change from True to False in a future version.\n",
            "  train_data['tweet'] = train_data['tweet'].str.replace('[^\\w\\s]', '')  # Remove punctuation\n",
            "<ipython-input-1-c3dd55cc8dbc>:27: FutureWarning: The default value of regex will change from True to False in a future version.\n",
            "  train_data['tweet'] = train_data['tweet'].str.replace('\\d+', '')  # Remove digits\n",
            "<ipython-input-1-c3dd55cc8dbc>:30: FutureWarning: The default value of regex will change from True to False in a future version.\n",
            "  dev_data['tweet'] = dev_data['tweet'].str.replace('[^\\w\\s]', '')  # Remove punctuation\n",
            "<ipython-input-1-c3dd55cc8dbc>:31: FutureWarning: The default value of regex will change from True to False in a future version.\n",
            "  dev_data['tweet'] = dev_data['tweet'].str.replace('\\d+', '')  # Remove digits\n",
            "<ipython-input-1-c3dd55cc8dbc>:34: FutureWarning: The default value of regex will change from True to False in a future version.\n",
            "  test_data['tweet'] = test_data['tweet'].str.replace('[^\\w\\s]', '')  # Remove punctuation\n",
            "<ipython-input-1-c3dd55cc8dbc>:35: FutureWarning: The default value of regex will change from True to False in a future version.\n",
            "  test_data['tweet'] = test_data['tweet'].str.replace('\\d+', '')  # Remove digits\n"
          ]
        },
        {
          "output_type": "stream",
          "name": "stdout",
          "text": [
            "Epoch 1/5\n",
            "160/160 [==============================] - 19s 93ms/step - loss: 0.8467 - accuracy: 0.6153 - val_loss: 0.6086 - val_accuracy: 0.7545\n",
            "Epoch 2/5\n",
            "160/160 [==============================] - 9s 59ms/step - loss: 0.4834 - accuracy: 0.8113 - val_loss: 0.5356 - val_accuracy: 0.7882\n",
            "Epoch 3/5\n",
            "160/160 [==============================] - 8s 51ms/step - loss: 0.3355 - accuracy: 0.8752 - val_loss: 0.5696 - val_accuracy: 0.7952\n",
            "Epoch 4/5\n",
            "160/160 [==============================] - 9s 56ms/step - loss: 0.2399 - accuracy: 0.9170 - val_loss: 0.6257 - val_accuracy: 0.7708\n",
            "Epoch 5/5\n",
            "160/160 [==============================] - 9s 57ms/step - loss: 0.1732 - accuracy: 0.9437 - val_loss: 0.6848 - val_accuracy: 0.7789\n",
            "58/58 [==============================] - 1s 12ms/step - loss: 0.7089 - accuracy: 0.7656\n",
            "Test Loss: 0.7089181542396545\n",
            "Test Accuracy: 0.7656165361404419\n"
          ]
        }
      ],
      "source": [
        "import pandas as pd\n",
        "import numpy as np\n",
        "from sklearn.model_selection import train_test_split\n",
        "from keras.preprocessing.text import Tokenizer\n",
        "from tensorflow.keras.preprocessing.sequence import pad_sequences\n",
        "from keras.models import Sequential\n",
        "from keras.layers import Embedding, Conv1D, GlobalMaxPooling1D, Dense\n",
        "\n",
        "# Load train data\n",
        "train_data_url = 'https://github.com/afrisenti-semeval/afrisent-semeval-2023/blob/main/data/ibo/train.tsv?raw=true'\n",
        "train_data = pd.read_csv(train_data_url, sep='\\t')\n",
        "train_data = train_data[['tweet', 'label']]  # Select the relevant columns\n",
        "\n",
        "# Load dev data\n",
        "dev_data_url = 'https://github.com/afrisenti-semeval/afrisent-semeval-2023/blob/main/data/ibo/dev.tsv?raw=true'\n",
        "dev_data = pd.read_csv(dev_data_url, sep='\\t')\n",
        "dev_data = dev_data[['tweet', 'label']]  # Select the relevant columns\n",
        "\n",
        "# Load test data\n",
        "test_data_url = 'https://github.com/afrisenti-semeval/afrisent-semeval-2023/blob/main/data/ibo/test.tsv?raw=true'\n",
        "test_data = pd.read_csv(test_data_url, sep='\\t')\n",
        "test_data = test_data[['tweet', 'label']]  # Select the relevant columns\n",
        "\n",
        "# Pre-process the text data\n",
        "train_data['tweet'] = train_data['tweet'].str.lower()  # Convert to lowercase\n",
        "train_data['tweet'] = train_data['tweet'].str.replace('[^\\w\\s]', '')  # Remove punctuation\n",
        "train_data['tweet'] = train_data['tweet'].str.replace('\\d+', '')  # Remove digits\n",
        "\n",
        "dev_data['tweet'] = dev_data['tweet'].str.lower()  # Convert to lowercase\n",
        "dev_data['tweet'] = dev_data['tweet'].str.replace('[^\\w\\s]', '')  # Remove punctuation\n",
        "dev_data['tweet'] = dev_data['tweet'].str.replace('\\d+', '')  # Remove digits\n",
        "\n",
        "test_data['tweet'] = test_data['tweet'].str.lower()  # Convert to lowercase\n",
        "test_data['tweet'] = test_data['tweet'].str.replace('[^\\w\\s]', '')  # Remove punctuation\n",
        "test_data['tweet'] = test_data['tweet'].str.replace('\\d+', '')  # Remove digits\n",
        "\n",
        "# Tokenize and pad the sequences for train, dev, and test data\n",
        "max_words = 5000\n",
        "max_len = 100\n",
        "tokenizer = Tokenizer(num_words=max_words, oov_token='<OOV>')\n",
        "tokenizer.fit_on_texts(train_data['tweet'])\n",
        "word_index = tokenizer.word_index\n",
        "\n",
        "# Train data\n",
        "X_train = tokenizer.texts_to_sequences(train_data['tweet'])\n",
        "X_train = pad_sequences(X_train, maxlen=max_len, padding='post')\n",
        "\n",
        "# Dev data\n",
        "X_dev = tokenizer.texts_to_sequences(dev_data['tweet'])\n",
        "X_dev = pad_sequences(X_dev, maxlen=max_len, padding='post')\n",
        "\n",
        "# Test data\n",
        "X_test = tokenizer.texts_to_sequences(test_data['tweet'])\n",
        "X_test = pad_sequences(X_test, maxlen=max_len, padding='post')\n",
        "y_test = pd.get_dummies(test_data['label'])\n",
        "\n",
        "\n",
        "# Convert labels to categorical\n",
        "y_train = pd.get_dummies(train_data['label'])\n",
        "y_dev = pd.get_dummies(dev_data['label'])\n",
        "\n",
        "# Build and train the CNN model\n",
        "model = Sequential()\n",
        "model.add(Embedding(max_words, 100, input_length=max_len))\n",
        "model.add(Conv1D(64, 5, activation='relu'))\n",
        "model.add(GlobalMaxPooling1D())\n",
        "model.add(Dense(3, activation='softmax'))\n",
        "\n",
        "model.compile(optimizer='adam', loss='categorical_crossentropy', metrics=['accuracy'])\n",
        "model.fit(X_train, y_train, epochs=5, batch_size=64, validation_data=(X_dev, y_dev))\n",
        "#Evaluate the model on test data\n",
        "\n",
        "loss, accuracy = model.evaluate(X_test, y_test, batch_size=64)\n",
        "print(\"Test Loss:\", loss)\n",
        "print(\"Test Accuracy:\", accuracy)\n"
      ]
    },
    {
      "cell_type": "code",
      "source": [],
      "metadata": {
        "id": "kAVINVJdgRC1"
      },
      "execution_count": null,
      "outputs": []
    }
  ]
}